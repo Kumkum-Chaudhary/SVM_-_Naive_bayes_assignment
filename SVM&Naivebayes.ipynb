{
  "nbformat": 4,
  "nbformat_minor": 0,
  "metadata": {
    "colab": {
      "provenance": []
    },
    "kernelspec": {
      "name": "python3",
      "display_name": "Python 3"
    },
    "language_info": {
      "name": "python"
    }
  },
  "cells": [
    {
      "cell_type": "markdown",
      "source": [
        "Theoretical"
      ],
      "metadata": {
        "id": "DKNs1jlzLBhZ"
      }
    },
    {
      "cell_type": "markdown",
      "source": [
        "**Support Vector Machine (SVM)**"
      ],
      "metadata": {
        "id": "Paq-W8SzKhnm"
      }
    },
    {
      "cell_type": "markdown",
      "source": [
        "1- What is a Support Vector Machine (SVM)?\n",
        "\n",
        "SVM is a powerful supervised learning algorithm used for classification and regression tasks. It works by finding the hyperplane (decision boundary) that best separates classes by maximizing the margin — the distance between the hyperplane and the closest data points from each class. This margin maximization helps improve the model’s generalization."
      ],
      "metadata": {
        "id": "3T_KjhxILB2-"
      }
    },
    {
      "cell_type": "markdown",
      "source": [
        "2- What is the difference between Hard Margin and Soft Margin SVM?\n",
        "\n",
        "Hard Margin SVM: Assumes perfect linear separability with no errors. It tries to find a hyperplane that separates all data points without misclassification, which can be too strict and sensitive to noise.\n",
        "\n",
        "Soft Margin SVM: Introduces slack variables that allow some data points to be within the margin or misclassified. It balances maximizing the margin and minimizing classification errors, making it suitable for real-world noisy data."
      ],
      "metadata": {
        "id": "mwDJEX_tLB6H"
      }
    },
    {
      "cell_type": "markdown",
      "source": [
        "3 - What is the mathematical intuition behind SVM?\n",
        "\n",
        "SVM formulates the classification task as an optimization problem:\n",
        "\n",
        "Objective: Minimize\n",
        "1\n",
        "2\n",
        "∥\n",
        "𝑤\n",
        "∥\n",
        "2\n",
        "2\n",
        "1\n",
        "​\n",
        " ∥w∥\n",
        "2\n",
        " , which maximizes the margin.\n",
        "\n",
        "Constraints:\n",
        "𝑦\n",
        "𝑖\n",
        "(\n",
        "𝑤\n",
        "⋅\n",
        "𝑥\n",
        "𝑖\n",
        "+\n",
        "𝑏\n",
        ")\n",
        "≥\n",
        "1\n",
        "y\n",
        "i\n",
        "​\n",
        " (w⋅x\n",
        "i\n",
        "​\n",
        " +b)≥1 for every training point\n",
        "𝑖\n",
        "i, ensuring each point is correctly classified with a margin of at least 1.\n",
        "The solution finds the parameters\n",
        "𝑤\n",
        "w (weights) and\n",
        "𝑏\n",
        "b (bias) defining the separating hyperplane."
      ],
      "metadata": {
        "id": "f6fL9OHhLCD_"
      }
    },
    {
      "cell_type": "markdown",
      "source": [
        "4- What is the role of Lagrange Multipliers in SVM?\n",
        "\n",
        "Lagrange multipliers transform the constrained optimization problem into a dual optimization problem, which is easier to solve computationally. They help identify the support vectors (data points with non-zero multipliers) that determine the decision boundary, reducing complexity by focusing only on critical points."
      ],
      "metadata": {
        "id": "f6EzlUfQLCIt"
      }
    },
    {
      "cell_type": "markdown",
      "source": [
        "5- What are Support Vectors in SVM?\n",
        "\n",
        "Support vectors are the training data points closest to the decision boundary (margin edges). They are crucial because they directly influence the position and orientation of the hyperplane. Points farther from the margin don’t affect the solution."
      ],
      "metadata": {
        "id": "UOoNn9OlLCMv"
      }
    },
    {
      "cell_type": "markdown",
      "source": [
        "6- What is a Support Vector Classifier (SVC)?\n",
        "\n",
        "SVC refers to the classification implementation of SVM, which can handle linear and nonlinear classification problems by applying kernel functions to transform data into higher dimensions."
      ],
      "metadata": {
        "id": "Bpen6bByLCPe"
      }
    },
    {
      "cell_type": "markdown",
      "source": [
        "7- What is a Support Vector Regressor (SVR)?\n",
        "SVR extends the SVM idea to regression. It tries to fit a function that predicts continuous values by keeping the error within a threshold\n",
        "𝜀\n",
        "ε. Points within\n",
        "𝜀\n",
        "ε distance of the predicted function are considered acceptable, and the algorithm tries to keep this margin as wide as possible."
      ],
      "metadata": {
        "id": "Ha-umtycLCSS"
      }
    },
    {
      "cell_type": "markdown",
      "source": [
        "8- What is the Kernel Trick in SVM?\n",
        "\n",
        "The kernel trick uses kernel functions to implicitly map input data into a higher-dimensional space without explicitly computing the coordinates in that space. This makes it computationally feasible to perform nonlinear classification by applying a linear classifier in this transformed space."
      ],
      "metadata": {
        "id": "THuv4utLLCUx"
      }
    },
    {
      "cell_type": "markdown",
      "source": [
        "9- Compare Linear Kernel, Polynomial Kernel, and RBF Kernel:\n",
        "\n",
        "Linear Kernel: Computes the dot product between two vectors. Good for data that is linearly separable. Fast and less computationally intensive.\n",
        "\n",
        "Polynomial Kernel: Captures interactions up to the specified polynomial degree, useful when relationships between features are non-linear but structured.\n",
        "\n",
        "RBF Kernel: Measures similarity based on the distance between points; maps data into infinite-dimensional space and is effective for highly non-linear data."
      ],
      "metadata": {
        "id": "jPcrQvVyLCXb"
      }
    },
    {
      "cell_type": "markdown",
      "source": [
        "10- What is the effect of the C parameter in SVM?\n",
        "\n",
        "C controls the trade-off between maximizing the margin and minimizing classification errors.\n",
        "\n",
        "A large C places more emphasis on classifying all training points correctly, which may lead to overfitting.\n",
        "\n",
        "A small C allows more violations of the margin, encouraging a wider margin and potentially better generalization."
      ],
      "metadata": {
        "id": "L81bkRTWLCa8"
      }
    },
    {
      "cell_type": "markdown",
      "source": [
        "11- What is the role of the Gamma parameter in RBF Kernel SVM?\n",
        "\n",
        "Gamma defines the influence of a single training example.\n",
        "\n",
        "A high gamma means a training point has a narrow influence, leading to more complex, flexible decision boundaries that fit the training data closely.\n",
        "\n",
        "A low gamma means a training point has a broader influence, resulting in smoother boundaries that might underfit."
      ],
      "metadata": {
        "id": "DAXhGp9jME3O"
      }
    },
    {
      "cell_type": "markdown",
      "source": [
        "**Naïve Bayes Classifier**"
      ],
      "metadata": {
        "id": "C2_ka7LeME_7"
      }
    },
    {
      "cell_type": "markdown",
      "source": [
        "12- What is the Naïve Bayes classifier, and why is it called \"Naïve\"?\n",
        "\n",
        "Naïve Bayes is a simple probabilistic classifier that applies Bayes’ Theorem with a strong assumption: that all features are independent of each other given the class label. This assumption is often unrealistic, so it’s called \"naïve,\" but it works surprisingly well in many practical applications."
      ],
      "metadata": {
        "id": "bmtj4BSTMFCP"
      }
    },
    {
      "cell_type": "markdown",
      "source": [
        "13- What is Bayes’ Theorem?\n",
        "\n",
        "Bayes’ Theorem provides a way to update the probability estimate of a hypothesis (class) based on observed data (features). It expresses the posterior probability\n",
        "𝑃\n",
        "(\n",
        "𝐴\n",
        "∣\n",
        "𝐵\n",
        ")\n",
        "P(A∣B) in terms of the likelihood\n",
        "𝑃\n",
        "(\n",
        "𝐵\n",
        "∣\n",
        "𝐴\n",
        ")\n",
        "P(B∣A), prior\n",
        "𝑃\n",
        "(\n",
        "𝐴\n",
        ")\n",
        "P(A), and evidence\n",
        "𝑃\n",
        "(\n",
        "𝐵\n",
        ")\n",
        "P(B)."
      ],
      "metadata": {
        "id": "NlgfGm23MFFq"
      }
    },
    {
      "cell_type": "markdown",
      "source": [
        "14- Explain the differences between Gaussian Naïve Bayes, Multinomial Naïve Bayes, and Bernoulli Naïve Bayes:\n",
        "\n",
        "Gaussian Naïve Bayes: Assumes features are continuous and normally distributed, used for continuous data like height or weight.\n",
        "\n",
        "Multinomial Naïve Bayes: Suitable for count data such as word frequencies in documents, commonly used in text classification.\n",
        "\n",
        "Bernoulli Naïve Bayes: Works with binary features indicating presence or absence, also used in text classification when word occurrence is important."
      ],
      "metadata": {
        "id": "9GUv5Nz5MFTL"
      }
    },
    {
      "cell_type": "markdown",
      "source": [
        "15- When should you use Gaussian Naïve Bayes over other variants?\n",
        "\n",
        "Use Gaussian Naïve Bayes when features are continuous numeric variables and can be reasonably modeled by a Gaussian distribution."
      ],
      "metadata": {
        "id": "bAT-A8GqMFV9"
      }
    },
    {
      "cell_type": "markdown",
      "source": [
        "16- What are the key assumptions made by Naïve Bayes?\n",
        "\n",
        "Feature independence given the class label (conditional independence).\n",
        "\n",
        "Each feature contributes independently to the final probability.\n",
        "\n",
        "The distribution form for features is appropriate (Gaussian, multinomial, or Bernoulli)."
      ],
      "metadata": {
        "id": "w94dBzfNMFYY"
      }
    },
    {
      "cell_type": "markdown",
      "source": [
        "17- What are the advantages and disadvantages of Naïve Bayes?\n",
        "\n",
        "Advantages: Simple, fast to train and predict, works well on small datasets and high-dimensional data, robust to irrelevant features.\n",
        "\n",
        "Disadvantages: The independence assumption is rarely true, which can reduce accuracy if features are highly correlated."
      ],
      "metadata": {
        "id": "mGuD09dsMFbz"
      }
    },
    {
      "cell_type": "markdown",
      "source": [
        "18- Why is Naïve Bayes a good choice for text classification?\n",
        "\n",
        "Because text data usually has many features (words) that can be sparse, and the independence assumption fits the bag-of-words model reasonably well. It is fast, efficient, and performs well for spam detection, sentiment analysis, and other NLP tasks."
      ],
      "metadata": {
        "id": "ej-65pLYAwKY"
      }
    },
    {
      "cell_type": "markdown",
      "source": [
        "19- Compare SVM and Naïve Bayes for classification tasks:\n",
        "\n",
        "SVM is a discriminative classifier that focuses on finding the best separating hyperplane and often performs better when classes are well separated or the data is high-dimensional but clean.\n",
        "\n",
        "Naïve Bayes is a generative classifier that models the joint distribution and is very fast and effective on large sparse datasets like text, but might be less accurate if feature independence is violated."
      ],
      "metadata": {
        "id": "nzBejp7YAwNL"
      }
    },
    {
      "cell_type": "markdown",
      "source": [
        "20- How does Laplace Smoothing help in Naïve Bayes?\n",
        "\n",
        "Laplace smoothing adds a small positive value (usually 1) to all feature counts to avoid zero probabilities for unseen features during prediction, which otherwise would cause the entire product of probabilities to become zero."
      ],
      "metadata": {
        "id": "eb2NLQ9PAwQj"
      }
    },
    {
      "cell_type": "markdown",
      "source": [
        "**Practical**"
      ],
      "metadata": {
        "id": "zyA_Zaw-BCZJ"
      }
    },
    {
      "cell_type": "code",
      "source": [
        "# 21-Write a Python program to train an SVM Classifier on the Iris dataset and evaluate accuracy\n",
        "from sklearn import datasets\n",
        "from sklearn.model_selection import train_test_split\n",
        "from sklearn.svm import SVC\n",
        "from sklearn.metrics import accuracy_score\n",
        "\n",
        "iris = datasets.load_iris()\n",
        "X = iris.data\n",
        "y = iris.target\n",
        "\n",
        "X_train, X_test, y_train, y_test = train_test_split(X, y, test_size=0.2, random_state=42)\n",
        "\n",
        "svm_model = SVC(kernel='rbf', C=1.0, gamma='scale')\n",
        "svm_model.fit(X_train, y_train)\n",
        "\n",
        "y_pred = svm_model.predict(X_test)\n",
        "accuracy = accuracy_score(y_test, y_pred)\n",
        "print(f\"Accuracy of SVM on Iris dataset: {accuracy:.2f}\")\n"
      ],
      "metadata": {
        "colab": {
          "base_uri": "https://localhost:8080/"
        },
        "id": "efquXTNZBBkF",
        "outputId": "75802efe-bb28-4784-a96e-f99d11da1d63"
      },
      "execution_count": 1,
      "outputs": [
        {
          "output_type": "stream",
          "name": "stdout",
          "text": [
            "Accuracy of SVM on Iris dataset: 1.00\n"
          ]
        }
      ]
    },
    {
      "cell_type": "code",
      "source": [
        "# 22- ##: Write a Python program to train two SVM classifiers with Linear and RBF kernels on the Wine dataset, then compare their accuracies\n",
        "from sklearn import datasets\n",
        "from sklearn.model_selection import train_test_split\n",
        "from sklearn.svm import SVC\n",
        "from sklearn.metrics import accuracy_score\n",
        "\n",
        "wine = datasets.load_wine()\n",
        "X = wine.data\n",
        "y = wine.target\n",
        "\n",
        "X_train, X_test, y_train, y_test = train_test_split(X, y, test_size=0.2, random_state=42)\n",
        "\n",
        "svm_linear = SVC(kernel='linear')\n",
        "svm_linear.fit(X_train, y_train)\n",
        "y_pred_linear = svm_linear.predict(X_test)\n",
        "accuracy_linear = accuracy_score(y_test, y_pred_linear)\n",
        "\n",
        "svm_rbf = SVC(kernel='rbf')\n",
        "svm_rbf.fit(X_train, y_train)\n",
        "y_pred_rbf = svm_rbf.predict(X_test)\n",
        "accuracy_rbf = accuracy_score(y_test, y_pred_rbf)\n",
        "\n",
        "print(f\"Accuracy with Linear Kernel: {accuracy_linear:.2f}\")\n",
        "print(f\"Accuracy with RBF Kernel: {accuracy_rbf:.2f}\")\n"
      ],
      "metadata": {
        "colab": {
          "base_uri": "https://localhost:8080/"
        },
        "id": "AD_0xk7zBVRK",
        "outputId": "f8677ebd-1e1e-4b83-922e-1b97e1b0098b"
      },
      "execution_count": 2,
      "outputs": [
        {
          "output_type": "stream",
          "name": "stdout",
          "text": [
            "Accuracy with Linear Kernel: 1.00\n",
            "Accuracy with RBF Kernel: 0.81\n"
          ]
        }
      ]
    },
    {
      "cell_type": "code",
      "source": [
        "# 23- Write a Python program to train an SVM Regressor (SVR) on a housing dataset and evaluate it using Mean Squared Error (MSE):\n",
        "from sklearn.datasets import fetch_california_housing\n",
        "from sklearn.model_selection import train_test_split\n",
        "from sklearn.svm import SVR\n",
        "from sklearn.metrics import mean_squared_error\n",
        "\n",
        "data = fetch_california_housing()\n",
        "X = data.data\n",
        "y = data.target\n",
        "\n",
        "X_train, X_test, y_train, y_test = train_test_split(X, y, test_size=0.2, random_state=42)\n",
        "\n",
        "svr_model = SVR(kernel='rbf')\n",
        "svr_model.fit(X_train, y_train)\n",
        "y_pred = svr_model.predict(X_test)\n",
        "\n",
        "mse = mean_squared_error(y_test, y_pred)\n",
        "print(f\"Mean Squared Error of SVR on housing dataset: {mse:.2f}\")\n"
      ],
      "metadata": {
        "colab": {
          "base_uri": "https://localhost:8080/"
        },
        "id": "QA-ssHC2BfjT",
        "outputId": "73bb877d-cf83-4c5b-bc2f-e35ad6f32a2f"
      },
      "execution_count": 3,
      "outputs": [
        {
          "output_type": "stream",
          "name": "stdout",
          "text": [
            "Mean Squared Error of SVR on housing dataset: 1.33\n"
          ]
        }
      ]
    },
    {
      "cell_type": "code",
      "source": [
        "# 24-  Write a Python program to train an SVM Classifier with a Polynomial Kernel and visualize the decision boundary\n",
        "import numpy as np\n",
        "import matplotlib.pyplot as plt\n",
        "from sklearn.datasets import make_classification\n",
        "from sklearn.svm import SVC\n",
        "from sklearn.preprocessing import StandardScaler\n",
        "\n",
        "X, y = make_classification(n_samples=100, n_features=2, n_informative=2,\n",
        "                           n_redundant=0, n_clusters_per_class=1, random_state=42)\n",
        "\n",
        "scaler = StandardScaler()\n",
        "X = scaler.fit_transform(X)\n",
        "\n",
        "model = SVC(kernel='poly', degree=3)\n",
        "model.fit(X, y)\n",
        "\n",
        "x_min, x_max = X[:, 0].min() - 1, X[:, 0].max() + 1\n",
        "y_min, y_max = X[:, 1].min() - 1, X[:, 1].max() + 1\n",
        "xx, yy = np.meshgrid(np.linspace(x_min, x_max, 500), np.linspace(y_min, y_max, 500))\n",
        "Z = model.predict(np.c_[xx.ravel(), yy.ravel()])\n",
        "Z = Z.reshape(xx.shape)\n",
        "\n",
        "plt.contourf(xx, yy, Z, alpha=0.3, cmap=plt.cm.coolwarm)\n",
        "plt.scatter(X[:, 0], X[:, 1], c=y, cmap=plt.cm.coolwarm, edgecolors='k')\n",
        "plt.title(\"SVM with Polynomial Kernel (degree=3)\")\n",
        "plt.xlabel(\"Feature 1\")\n",
        "plt.ylabel(\"Feature 2\")\n",
        "plt.show()"
      ],
      "metadata": {
        "colab": {
          "base_uri": "https://localhost:8080/",
          "height": 472
        },
        "id": "hTsWMRmiBsYA",
        "outputId": "3d712754-c42d-4d82-8a92-f634483bcfca"
      },
      "execution_count": 4,
      "outputs": [
        {
          "output_type": "display_data",
          "data": {
            "text/plain": [
              "<Figure size 640x480 with 1 Axes>"
            ],
            "image/png": "[encoded data removed]"
          },
          "metadata": {}
        }
      ]
    },
    {
      "cell_type": "code",
      "source": [
        "# 25- Write a Python program to train a Gaussian Naïve Bayes classifier on the Breast Cancer dataset and evaluate accuracy\n",
        "from sklearn.datasets import load_breast_cancer\n",
        "from sklearn.model_selection import train_test_split\n",
        "from sklearn.naive_bayes import GaussianNB\n",
        "from sklearn.metrics import accuracy_score\n",
        "\n",
        "data = load_breast_cancer()\n",
        "X = data.data\n",
        "y = data.target\n",
        "\n",
        "X_train, X_test, y_train, y_test = train_test_split(X, y, test_size=0.2, random_state=42)\n",
        "\n",
        "model = GaussianNB()\n",
        "model.fit(X_train, y_train)\n",
        "y_pred = model.predict(X_test)\n",
        "\n",
        "accuracy = accuracy_score(y_test, y_pred)\n",
        "print(f\"Accuracy of Gaussian Naïve Bayes on Breast Cancer dataset: {accuracy:.2f}\")"
      ],
      "metadata": {
        "colab": {
          "base_uri": "https://localhost:8080/"
        },
        "id": "5hcEdXCqBzmP",
        "outputId": "29b425fe-5f49-49be-860e-304aefd345a8"
      },
      "execution_count": 5,
      "outputs": [
        {
          "output_type": "stream",
          "name": "stdout",
          "text": [
            "Accuracy of Gaussian Naïve Bayes on Breast Cancer dataset: 0.97\n"
          ]
        }
      ]
    },
    {
      "cell_type": "code",
      "source": [
        "# 26- Write a Python program to train a Multinomial Naïve Bayes classifier for text classification using the 20 Newsgroups dataset.\n",
        "from sklearn.datasets import fetch_20newsgroups\n",
        "from sklearn.feature_extraction.text import CountVectorizer\n",
        "from sklearn.naive_bayes import MultinomialNB\n",
        "from sklearn.model_selection import train_test_split\n",
        "from sklearn.metrics import accuracy_score\n",
        "\n",
        "data = fetch_20newsgroups(subset='all')\n",
        "X_train, X_test, y_train, y_test = train_test_split(data.data, data.target, test_size=0.2, random_state=42)\n",
        "\n",
        "vectorizer = CountVectorizer()\n",
        "X_train_vec = vectorizer.fit_transform(X_train)\n",
        "X_test_vec = vectorizer.transform(X_test)\n",
        "\n",
        "model = MultinomialNB()\n",
        "model.fit(X_train_vec, y_train)\n",
        "y_pred = model.predict(X_test_vec)\n",
        "\n",
        "accuracy = accuracy_score(y_test, y_pred)\n",
        "print(f\"Accuracy of Multinomial Naïve Bayes on 20 Newsgroups dataset: {accuracy:.2f}\")\n"
      ],
      "metadata": {
        "colab": {
          "base_uri": "https://localhost:8080/"
        },
        "id": "VzltXZfcBzoe",
        "outputId": "a2fb96fb-f364-4c58-88be-ae5c287079f9"
      },
      "execution_count": 6,
      "outputs": [
        {
          "output_type": "stream",
          "name": "stdout",
          "text": [
            "Accuracy of Multinomial Naïve Bayes on 20 Newsgroups dataset: 0.85\n"
          ]
        }
      ]
    },
    {
      "cell_type": "code",
      "source": [
        "# 27-  Write a Python program to train an SVM Classifier with different C values and compare the decision boundaries visually\n",
        "import numpy as np\n",
        "import matplotlib.pyplot as plt\n",
        "from sklearn.datasets import make_classification\n",
        "from sklearn.svm import SVC\n",
        "from sklearn.preprocessing import StandardScaler\n",
        "\n",
        "X, y = make_classification(n_samples=100, n_features=2, n_informative=2,\n",
        "                           n_redundant=0, n_clusters_per_class=1, random_state=42)\n",
        "\n",
        "scaler = StandardScaler()\n",
        "X = scaler.fit_transform(X)\n",
        "\n",
        "C_values = [0.1, 1, 10]\n",
        "plt.figure(figsize=(15, 4))\n",
        "\n",
        "for i, C in enumerate(C_values):\n",
        "    model = SVC(kernel='linear', C=C)\n",
        "    model.fit(X, y)\n",
        "\n",
        "    x_min, x_max = X[:, 0].min() - 1, X[:, 0].max() + 1\n",
        "    y_min, y_max = X[:, 1].min() - 1, X[:, 1].max() + 1\n",
        "    xx, yy = np.meshgrid(np.linspace(x_min, x_max, 500), np.linspace(y_min, y_max, 500))\n",
        "    Z = model.predict(np.c_[xx.ravel(), yy.ravel()])\n",
        "    Z = Z.reshape(xx.shape)\n",
        "\n",
        "    plt.subplot(1, 3, i + 1)\n",
        "    plt.contourf(xx, yy, Z, alpha=0.3, cmap=plt.cm.coolwarm)\n",
        "    plt.scatter(X[:, 0], X[:, 1], c=y, cmap=plt.cm.coolwarm, edgecolors='k')\n",
        "    plt.title(f\"SVM with C={C}\")\n",
        "    plt.xlabel(\"Feature 1\")\n",
        "    plt.ylabel(\"Feature 2\")\n",
        "\n",
        "plt.tight_layout()\n",
        "plt.show()\n"
      ],
      "metadata": {
        "colab": {
          "base_uri": "https://localhost:8080/",
          "height": 387
        },
        "id": "t6piUKfEBzrR",
        "outputId": "28e2488f-8af0-4035-f6f8-f9232b686f82"
      },
      "execution_count": 7,
      "outputs": [
        {
          "output_type": "display_data",
          "data": {
            "text/plain": [
              "<Figure size 1500x400 with 3 Axes>"
            ],
            "image/png": "[encoded data removed]"
          },
          "metadata": {}
        }
      ]
    },
    {
      "cell_type": "code",
      "source": [
        "# 28- Write a Python program to train a Bernoulli Naïve Bayes classifier for binary classification on a dataset with binary features\n",
        "from sklearn.datasets import make_classification\n",
        "from sklearn.model_selection import train_test_split\n",
        "from sklearn.naive_bayes import BernoulliNB\n",
        "from sklearn.preprocessing import Binarizer\n",
        "from sklearn.metrics import accuracy_score\n",
        "\n",
        "X, y = make_classification(n_samples=1000, n_features=20, n_informative=10,\n",
        "                           n_redundant=0, n_classes=2, random_state=42)\n",
        "\n",
        "binarizer = Binarizer()\n",
        "X_binary = binarizer.fit_transform(X)\n",
        "\n",
        "X_train, X_test, y_train, y_test = train_test_split(X_binary, y, test_size=0.2, random_state=42)\n",
        "\n",
        "model = BernoulliNB()\n",
        "model.fit(X_train, y_train)\n",
        "y_pred = model.predict(X_test)\n",
        "\n",
        "accuracy = accuracy_score(y_test, y_pred)\n",
        "print(f\"Accuracy of Bernoulli Naïve Bayes on binary dataset: {accuracy:.2f}\")"
      ],
      "metadata": {
        "colab": {
          "base_uri": "https://localhost:8080/"
        },
        "id": "MCkrkbbMBzt-",
        "outputId": "ecc12bca-4cd1-41ea-f76f-e2f7b0fc9c29"
      },
      "execution_count": 8,
      "outputs": [
        {
          "output_type": "stream",
          "name": "stdout",
          "text": [
            "Accuracy of Bernoulli Naïve Bayes on binary dataset: 0.76\n"
          ]
        }
      ]
    },
    {
      "cell_type": "code",
      "source": [
        "# 29- Write a Python program to apply feature scaling before training an SVM model and compare results with unscaled data\n",
        "from sklearn.datasets import load_wine\n",
        "from sklearn.model_selection import train_test_split\n",
        "from sklearn.svm import SVC\n",
        "from sklearn.preprocessing import StandardScaler\n",
        "from sklearn.metrics import accuracy_score\n",
        "\n",
        "data = load_wine()\n",
        "X = data.data\n",
        "y = data.target\n",
        "\n",
        "X_train, X_test, y_train, y_test = train_test_split(X, y, test_size=0.2, random_state=42)\n",
        "\n",
        "model_unscaled = SVC()\n",
        "model_unscaled.fit(X_train, y_train)\n",
        "y_pred_unscaled = model_unscaled.predict(X_test)\n",
        "accuracy_unscaled = accuracy_score(y_test, y_pred_unscaled)\n",
        "\n",
        "scaler = StandardScaler()\n",
        "X_train_scaled = scaler.fit_transform(X_train)\n",
        "X_test_scaled = scaler.transform(X_test)\n",
        "\n",
        "model_scaled = SVC()\n",
        "model_scaled.fit(X_train_scaled, y_train)\n",
        "y_pred_scaled = model_scaled.predict(X_test_scaled)\n",
        "accuracy_scaled = accuracy_score(y_test, y_pred_scaled)\n",
        "\n",
        "print(f\"Accuracy without scaling: {accuracy_unscaled:.2f}\")\n",
        "print(f\"Accuracy with scaling: {accuracy_scaled:.2f}\")"
      ],
      "metadata": {
        "colab": {
          "base_uri": "https://localhost:8080/"
        },
        "id": "zXFp5u2JBzwV",
        "outputId": "8c6cc1c2-dfee-4c84-df68-d4004be6b865"
      },
      "execution_count": 9,
      "outputs": [
        {
          "output_type": "stream",
          "name": "stdout",
          "text": [
            "Accuracy without scaling: 0.81\n",
            "Accuracy with scaling: 1.00\n"
          ]
        }
      ]
    },
    {
      "cell_type": "code",
      "source": [
        "# 30- Write a Python program to train a Gaussian Naïve Bayes model and compare the predictions before and after Laplace Smoothing\n",
        "from sklearn.datasets import load_iris\n",
        "from sklearn.model_selection import train_test_split\n",
        "from sklearn.naive_bayes import GaussianNB, MultinomialNB\n",
        "from sklearn.metrics import accuracy_score\n",
        "from sklearn.preprocessing import KBinsDiscretizer\n",
        "\n",
        "data = load_iris()\n",
        "X = data.data\n",
        "y = data.target\n",
        "\n",
        "X_train, X_test, y_train, y_test = train_test_split(X, y, test_size=0.2, random_state=42)\n",
        "\n",
        "gnb = GaussianNB()\n",
        "gnb.fit(X_train, y_train)\n",
        "y_pred_gnb = gnb.predict(X_test)\n",
        "acc_gnb = accuracy_score(y_test, y_pred_gnb)\n",
        "\n",
        "discretizer = KBinsDiscretizer(n_bins=10, encode='ordinal', strategy='uniform')\n",
        "X_binned = discretizer.fit_transform(X)\n",
        "\n",
        "X_train_bin, X_test_bin, y_train_bin, y_test_bin = train_test_split(X_binned, y, test_size=0.2, random_state=42)\n",
        "\n",
        "mnb_no_smooth = MultinomialNB(alpha=0.0)\n",
        "mnb_no_smooth.fit(X_train_bin, y_train_bin)\n",
        "y_pred_no_smooth = mnb_no_smooth.predict(X_test_bin)\n",
        "acc_no_smooth = accuracy_score(y_test_bin, y_pred_no_smooth)\n",
        "\n",
        "mnb_smooth = MultinomialNB(alpha=1.0)\n",
        "mnb_smooth.fit(X_train_bin, y_train_bin)\n",
        "y_pred_smooth = mnb_smooth.predict(X_test_bin)\n",
        "acc_smooth = accuracy_score(y_test_bin, y_pred_smooth)\n",
        "\n",
        "print(f\"GaussianNB accuracy: {acc_gnb:.2f}\")\n",
        "print(f\"MultinomialNB accuracy without Laplace smoothing (alpha=0): {acc_no_smooth:.2f}\")\n",
        "print(f\"MultinomialNB accuracy with Laplace smoothing (alpha=1): {acc_smooth:.2f}\")"
      ],
      "metadata": {
        "colab": {
          "base_uri": "https://localhost:8080/"
        },
        "id": "wR-kBCi6Bzzv",
        "outputId": "73749d9c-8521-4b81-da23-25700b52c74d"
      },
      "execution_count": 10,
      "outputs": [
        {
          "output_type": "stream",
          "name": "stdout",
          "text": [
            "GaussianNB accuracy: 1.00\n",
            "MultinomialNB accuracy without Laplace smoothing (alpha=0): 0.80\n",
            "MultinomialNB accuracy with Laplace smoothing (alpha=1): 0.80\n"
          ]
        }
      ]
    },
    {
      "cell_type": "code",
      "source": [
        "# 31- Write a Python program to train an SVM Classifier and use GridSearchCV to tune the hyperparameters (C,gamma, kernel)\n",
        "from sklearn.datasets import load_iris\n",
        "from sklearn.model_selection import train_test_split, GridSearchCV\n",
        "from sklearn.svm import SVC\n",
        "from sklearn.metrics import accuracy_score\n",
        "\n",
        "data = load_iris()\n",
        "X_train, X_test, y_train, y_test = train_test_split(data.data, data.target, test_size=0.2, random_state=42)\n",
        "\n",
        "param_grid = {\n",
        "    'C': [0.1, 1, 10],\n",
        "    'gamma': ['scale', 'auto'],\n",
        "    'kernel': ['linear', 'rbf', 'poly']\n",
        "}\n",
        "\n",
        "grid = GridSearchCV(SVC(), param_grid, cv=5, n_jobs=-1)\n",
        "grid.fit(X_train, y_train)\n",
        "\n",
        "best_model = grid.best_estimator_\n",
        "y_pred = best_model.predict(X_test)\n",
        "accuracy = accuracy_score(y_test, y_pred)\n",
        "\n",
        "print(\"Best Parameters:\", grid.best_params_)\n",
        "print(f\"Accuracy with best parameters: {accuracy:.2f}\")"
      ],
      "metadata": {
        "colab": {
          "base_uri": "https://localhost:8080/"
        },
        "id": "w-hX99okDdB5",
        "outputId": "1a48fe80-8235-407a-b09a-822e19752d2a"
      },
      "execution_count": 11,
      "outputs": [
        {
          "output_type": "stream",
          "name": "stdout",
          "text": [
            "Best Parameters: {'C': 1, 'gamma': 'scale', 'kernel': 'linear'}\n",
            "Accuracy with best parameters: 1.00\n"
          ]
        }
      ]
    },
    {
      "cell_type": "code",
      "source": [
        "# 32- Write a Python program to train an SVM Classifier on an imbalanced dataset and apply class weighting and check it improve accuracy\n",
        "from sklearn.datasets import make_classification\n",
        "from sklearn.model_selection import train_test_split\n",
        "from sklearn.svm import SVC\n",
        "from sklearn.metrics import accuracy_score, classification_report\n",
        "\n",
        "X, y = make_classification(n_samples=1000, n_features=20, n_classes=2,\n",
        "                           weights=[0.9, 0.1], flip_y=0, random_state=42)\n",
        "\n",
        "X_train, X_test, y_train, y_test = train_test_split(X, y, test_size=0.2, random_state=42)\n",
        "\n",
        "model_no_weight = SVC()\n",
        "model_no_weight.fit(X_train, y_train)\n",
        "y_pred_no_weight = model_no_weight.predict(X_test)\n",
        "acc_no_weight = accuracy_score(y_test, y_pred_no_weight)\n",
        "\n",
        "model_weighted = SVC(class_weight='balanced')\n",
        "model_weighted.fit(X_train, y_train)\n",
        "y_pred_weighted = model_weighted.predict(X_test)\n",
        "acc_weighted = accuracy_score(y_test, y_pred_weighted)\n",
        "\n",
        "print(f\"Accuracy without class weighting: {acc_no_weight:.2f}\")\n",
        "print(f\"Accuracy with class weighting: {acc_weighted:.2f}\")\n",
        "\n",
        "print(\"\\nClassification report with class weighting:\")\n",
        "print(classification_report(y_test, y_pred_weighted))\n"
      ],
      "metadata": {
        "colab": {
          "base_uri": "https://localhost:8080/"
        },
        "id": "RaBFqeYkDlec",
        "outputId": "4c4fd22d-a8e7-4e2c-a816-c351f0ae3b97"
      },
      "execution_count": 12,
      "outputs": [
        {
          "output_type": "stream",
          "name": "stdout",
          "text": [
            "Accuracy without class weighting: 0.94\n",
            "Accuracy with class weighting: 0.92\n",
            "\n",
            "Classification report with class weighting:\n",
            "              precision    recall  f1-score   support\n",
            "\n",
            "           0       0.97      0.94      0.95       185\n",
            "           1       0.45      0.60      0.51        15\n",
            "\n",
            "    accuracy                           0.92       200\n",
            "   macro avg       0.71      0.77      0.73       200\n",
            "weighted avg       0.93      0.92      0.92       200\n",
            "\n"
          ]
        }
      ]
    },
    {
      "cell_type": "code",
      "source": [
        "# 33- Write a Python program to implement a Naïve Bayes classifier for spam detection using email data\n",
        "from sklearn.model_selection import train_test_split\n",
        "from sklearn.naive_bayes import MultinomialNB\n",
        "from sklearn.feature_extraction.text import CountVectorizer\n",
        "from sklearn.metrics import accuracy_score, classification_report\n",
        "\n",
        "emails = [\n",
        "    \"Free money!!!\", \"Hi Bob, how about a game of golf tomorrow?\",\n",
        "    \"Congratulations, you've won a free ticket\", \"Are we still meeting for dinner?\",\n",
        "    \"Win a $1000 gift card now!\", \"Hello, I wanted to check in about the project\",\n",
        "    \"Exclusive offer just for you, claim now!\", \"Can you review the report by today?\"\n",
        "]\n",
        "\n",
        "labels = ['spam', 'ham', 'spam', 'ham', 'spam', 'ham', 'spam', 'ham']\n",
        "\n",
        "X_train, X_test, y_train, y_test = train_test_split(emails, labels, test_size=0.25, random_state=42)\n",
        "\n",
        "vectorizer = CountVectorizer()\n",
        "X_train_vec = vectorizer.fit_transform(X_train)\n",
        "X_test_vec = vectorizer.transform(X_test)\n",
        "\n",
        "model = MultinomialNB()\n",
        "model.fit(X_train_vec, y_train)\n",
        "\n",
        "y_pred = model.predict(X_test_vec)\n",
        "print(f\"Accuracy: {accuracy_score(y_test, y_pred):.2f}\")\n",
        "print(classification_report(y_test, y_pred))\n",
        "\n"
      ],
      "metadata": {
        "colab": {
          "base_uri": "https://localhost:8080/"
        },
        "id": "tMZ16ufWDxM5",
        "outputId": "064196d7-45b3-4f7d-8994-6ac930cd680d"
      },
      "execution_count": 14,
      "outputs": [
        {
          "output_type": "stream",
          "name": "stdout",
          "text": [
            "Accuracy: 0.50\n",
            "              precision    recall  f1-score   support\n",
            "\n",
            "         ham       1.00      0.50      0.67         2\n",
            "        spam       0.00      0.00      0.00         0\n",
            "\n",
            "    accuracy                           0.50         2\n",
            "   macro avg       0.50      0.25      0.33         2\n",
            "weighted avg       1.00      0.50      0.67         2\n",
            "\n"
          ]
        },
        {
          "output_type": "stream",
          "name": "stderr",
          "text": [
            "/usr/local/lib/python3.11/dist-packages/sklearn/metrics/_classification.py:1565: UndefinedMetricWarning: Recall is ill-defined and being set to 0.0 in labels with no true samples. Use `zero_division` parameter to control this behavior.\n",
            "  _warn_prf(average, modifier, f\"{metric.capitalize()} is\", len(result))\n",
            "/usr/local/lib/python3.11/dist-packages/sklearn/metrics/_classification.py:1565: UndefinedMetricWarning: Recall is ill-defined and being set to 0.0 in labels with no true samples. Use `zero_division` parameter to control this behavior.\n",
            "  _warn_prf(average, modifier, f\"{metric.capitalize()} is\", len(result))\n",
            "/usr/local/lib/python3.11/dist-packages/sklearn/metrics/_classification.py:1565: UndefinedMetricWarning: Recall is ill-defined and being set to 0.0 in labels with no true samples. Use `zero_division` parameter to control this behavior.\n",
            "  _warn_prf(average, modifier, f\"{metric.capitalize()} is\", len(result))\n"
          ]
        }
      ]
    },
    {
      "cell_type": "code",
      "source": [
        "# 34- Write a Python program to train an SVM Classifier and a Naïve Bayes Classifier on the same dataset and compare their accuracy\n",
        "from sklearn.datasets import load_iris\n",
        "from sklearn.model_selection import train_test_split\n",
        "from sklearn.svm import SVC\n",
        "from sklearn.naive_bayes import GaussianNB\n",
        "from sklearn.metrics import accuracy_score\n",
        "\n",
        "data = load_iris()\n",
        "X_train, X_test, y_train, y_test = train_test_split(data.data, data.target, test_size=0.2, random_state=42)\n",
        "\n",
        "svm_model = SVC()\n",
        "svm_model.fit(X_train, y_train)\n",
        "y_pred_svm = svm_model.predict(X_test)\n",
        "acc_svm = accuracy_score(y_test, y_pred_svm)\n",
        "\n",
        "nb_model = GaussianNB()\n",
        "nb_model.fit(X_train, y_train)\n",
        "y_pred_nb = nb_model.predict(X_test)\n",
        "acc_nb = accuracy_score(y_test, y_pred_nb)\n",
        "\n",
        "print(f\"SVM Accuracy: {acc_svm:.2f}\")\n",
        "print(f\"Naive Bayes Accuracy: {acc_nb:.2f}\")"
      ],
      "metadata": {
        "colab": {
          "base_uri": "https://localhost:8080/"
        },
        "id": "ZUj0D6V3D7Pc",
        "outputId": "b1729070-1112-48b8-9fbf-f823e9231b84"
      },
      "execution_count": 15,
      "outputs": [
        {
          "output_type": "stream",
          "name": "stdout",
          "text": [
            "SVM Accuracy: 1.00\n",
            "Naive Bayes Accuracy: 1.00\n"
          ]
        }
      ]
    },
    {
      "cell_type": "code",
      "source": [
        "# 35- Write a Python program to perform feature selection before training a Naïve Bayes classifier and compare results\n",
        "from sklearn.datasets import load_iris\n",
        "from sklearn.model_selection import train_test_split\n",
        "from sklearn.naive_bayes import GaussianNB\n",
        "from sklearn.feature_selection import SelectKBest, chi2\n",
        "from sklearn.metrics import accuracy_score\n",
        "\n",
        "data = load_iris()\n",
        "X_train, X_test, y_train, y_test = train_test_split(data.data, data.target, test_size=0.2, random_state=42)\n",
        "\n",
        "model_full = GaussianNB()\n",
        "model_full.fit(X_train, y_train)\n",
        "y_pred_full = model_full.predict(X_test)\n",
        "acc_full = accuracy_score(y_test, y_pred_full)\n",
        "\n",
        "selector = SelectKBest(chi2, k=2)\n",
        "X_train_selected = selector.fit_transform(X_train, y_train)\n",
        "X_test_selected = selector.transform(X_test)\n",
        "\n",
        "model_selected = GaussianNB()\n",
        "model_selected.fit(X_train_selected, y_train)\n",
        "y_pred_selected = model_selected.predict(X_test_selected)\n",
        "acc_selected = accuracy_score(y_test, y_pred_selected)\n",
        "\n",
        "print(f\"Accuracy with all features: {acc_full:.2f}\")\n",
        "print(f\"Accuracy with selected features: {acc_selected:.2f}\")"
      ],
      "metadata": {
        "colab": {
          "base_uri": "https://localhost:8080/"
        },
        "id": "6dodKIB6Ebd-",
        "outputId": "496ff10d-43cc-4dfa-c52f-519aa5e13817"
      },
      "execution_count": 16,
      "outputs": [
        {
          "output_type": "stream",
          "name": "stdout",
          "text": [
            "Accuracy with all features: 1.00\n",
            "Accuracy with selected features: 1.00\n"
          ]
        }
      ]
    },
    {
      "cell_type": "code",
      "source": [
        "#36-  Write a Python program to train an SVM Classifier using One-vs-Rest (OvR) and One-vs-One (OvO) strategies on the Wine dataset and compare their accuracy\n",
        "from sklearn.datasets import load_wine\n",
        "from sklearn.model_selection import train_test_split\n",
        "from sklearn.svm import SVC\n",
        "from sklearn.multiclass import OneVsRestClassifier, OneVsOneClassifier\n",
        "from sklearn.metrics import accuracy_score\n",
        "\n",
        "data = load_wine()\n",
        "X_train, X_test, y_train, y_test = train_test_split(data.data, data.target, test_size=0.2, random_state=42)\n",
        "\n",
        "ovr_model = OneVsRestClassifier(SVC())\n",
        "ovr_model.fit(X_train, y_train)\n",
        "y_pred_ovr = ovr_model.predict(X_test)\n",
        "acc_ovr = accuracy_score(y_test, y_pred_ovr)\n",
        "\n",
        "ovo_model = OneVsOneClassifier(SVC())\n",
        "ovo_model.fit(X_train, y_train)\n",
        "y_pred_ovo = ovo_model.predict(X_test)\n",
        "acc_ovo = accuracy_score(y_test, y_pred_ovo)\n",
        "\n",
        "print(f\"OvR Accuracy: {acc_ovr:.2f}\")\n",
        "print(f\"OvO Accuracy: {acc_ovo:.2f}\")\n"
      ],
      "metadata": {
        "colab": {
          "base_uri": "https://localhost:8080/"
        },
        "id": "Hy86GQgmEliO",
        "outputId": "73fb2fb2-b0b9-4d99-a5db-33cb8008eb67"
      },
      "execution_count": 17,
      "outputs": [
        {
          "output_type": "stream",
          "name": "stdout",
          "text": [
            "OvR Accuracy: 0.78\n",
            "OvO Accuracy: 0.83\n"
          ]
        }
      ]
    },
    {
      "cell_type": "code",
      "source": [
        "# 37- Write a Python program to train an SVM Classifier using Linear, Polynomial, and RBF kernels on the Breast Cancer dataset and compare their accuracy\n",
        "from sklearn.datasets import load_breast_cancer\n",
        "from sklearn.model_selection import train_test_split\n",
        "from sklearn.svm import SVC\n",
        "from sklearn.metrics import accuracy_score\n",
        "\n",
        "data = load_breast_cancer()\n",
        "X_train, X_test, y_train, y_test = train_test_split(data.data, data.target, test_size=0.2, random_state=42)\n",
        "\n",
        "kernels = ['linear', 'poly', 'rbf']\n",
        "accuracies = {}\n",
        "\n",
        "for kernel in kernels:\n",
        "    model = SVC(kernel=kernel)\n",
        "    model.fit(X_train, y_train)\n",
        "    y_pred = model.predict(X_test)\n",
        "    accuracies[kernel] = accuracy_score(y_test, y_pred)\n",
        "\n",
        "for kernel, acc in accuracies.items():\n",
        "    print(f\"{kernel.capitalize()} Kernel Accuracy: {acc:.2f}\")\n"
      ],
      "metadata": {
        "colab": {
          "base_uri": "https://localhost:8080/"
        },
        "id": "WYd6JqsbEvXH",
        "outputId": "96af8000-6335-41cc-c7ba-0ea4b7fe5e11"
      },
      "execution_count": 18,
      "outputs": [
        {
          "output_type": "stream",
          "name": "stdout",
          "text": [
            "Linear Kernel Accuracy: 0.96\n",
            "Poly Kernel Accuracy: 0.95\n",
            "Rbf Kernel Accuracy: 0.95\n"
          ]
        }
      ]
    },
    {
      "cell_type": "code",
      "source": [
        "# 38- Write a Python program to train an SVM Classifier using Stratified K-Fold Cross-Validation and compute the average accuracy\n",
        "from sklearn.datasets import load_iris\n",
        "from sklearn.svm import SVC\n",
        "from sklearn.model_selection import StratifiedKFold\n",
        "from sklearn.metrics import accuracy_score\n",
        "import numpy as np\n",
        "\n",
        "data = load_iris()\n",
        "X, y = data.data, data.target\n",
        "\n",
        "skf = StratifiedKFold(n_splits=5, shuffle=True, random_state=42)\n",
        "accuracies = []\n",
        "\n",
        "for train_index, test_index in skf.split(X, y):\n",
        "    X_train, X_test = X[train_index], X[test_index]\n",
        "    y_train, y_test = y[train_index], y[test_index]\n",
        "    model = SVC()\n",
        "    model.fit(X_train, y_train)\n",
        "    y_pred = model.predict(X_test)\n",
        "    accuracies.append(accuracy_score(y_test, y_pred))\n",
        "\n",
        "print(f\"Average Accuracy: {np.mean(accuracies):.2f}\")\n"
      ],
      "metadata": {
        "colab": {
          "base_uri": "https://localhost:8080/"
        },
        "id": "aeaK-EYwE5g3",
        "outputId": "37721738-4cb5-414d-db57-e27182758b07"
      },
      "execution_count": 19,
      "outputs": [
        {
          "output_type": "stream",
          "name": "stdout",
          "text": [
            "Average Accuracy: 0.97\n"
          ]
        }
      ]
    },
    {
      "cell_type": "code",
      "source": [
        "# 40-Write a Python program to perform Recursive Feature Elimination (RFE) before training an SVM Classifier and compare accuracy\n",
        "from sklearn.datasets import load_iris\n",
        "from sklearn.model_selection import train_test_split\n",
        "from sklearn.svm import SVC\n",
        "from sklearn.feature_selection import RFE\n",
        "from sklearn.metrics import accuracy_score\n",
        "\n",
        "data = load_iris()\n",
        "X_train, X_test, y_train, y_test = train_test_split(data.data, data.target, test_size=0.2, random_state=42)\n",
        "\n",
        "model_full = SVC()\n",
        "model_full.fit(X_train, y_train)\n",
        "y_pred_full = model_full.predict(X_test)\n",
        "acc_full = accuracy_score(y_test, y_pred_full)\n",
        "\n",
        "selector = RFE(estimator=SVC(kernel=\"linear\"), n_features_to_select=2)\n",
        "X_train_rfe = selector.fit_transform(X_train, y_train)\n",
        "X_test_rfe = selector.transform(X_test)\n",
        "\n",
        "model_rfe = SVC()\n",
        "model_rfe.fit(X_train_rfe, y_train)\n",
        "y_pred_rfe = model_rfe.predict(X_test_rfe)\n",
        "acc_rfe = accuracy_score(y_test, y_pred_rfe)\n",
        "\n",
        "print(f\"Accuracy with all features: {acc_full:.2f}\")\n",
        "print(f\"Accuracy after RFE: {acc_rfe:.2f}\")\n"
      ],
      "metadata": {
        "colab": {
          "base_uri": "https://localhost:8080/"
        },
        "id": "5LpwtZVaFCSJ",
        "outputId": "10f407b1-0646-4be4-d3c8-f2ba113466d5"
      },
      "execution_count": 20,
      "outputs": [
        {
          "output_type": "stream",
          "name": "stdout",
          "text": [
            "Accuracy with all features: 1.00\n",
            "Accuracy after RFE: 1.00\n"
          ]
        }
      ]
    },
    {
      "cell_type": "code",
      "source": [
        "# 42- Write a Python program to train a Naïve Bayes Classifier and evaluate its performance using Log Loss (Cross-Entropy Loss)\n",
        "from sklearn.datasets import load_iris\n",
        "from sklearn.model_selection import train_test_split\n",
        "from sklearn.naive_bayes import GaussianNB\n",
        "from sklearn.metrics import log_loss\n",
        "\n",
        "data = load_iris()\n",
        "X_train, X_test, y_train, y_test = train_test_split(data.data, data.target, test_size=0.2, random_state=42)\n",
        "\n",
        "model = GaussianNB()\n",
        "model.fit(X_train, y_train)\n",
        "\n",
        "y_prob = model.predict_proba(X_test)\n",
        "loss = log_loss(y_test, y_prob)\n",
        "\n",
        "print(f\"Log Loss: {loss:.4f}\")\n"
      ],
      "metadata": {
        "colab": {
          "base_uri": "https://localhost:8080/"
        },
        "id": "n6PnDcf_FMaC",
        "outputId": "55280390-50e8-4715-ba6f-e669adbc9ebf"
      },
      "execution_count": 21,
      "outputs": [
        {
          "output_type": "stream",
          "name": "stdout",
          "text": [
            "Log Loss: 0.0263\n"
          ]
        }
      ]
    },
    {
      "cell_type": "code",
      "source": [
        "# 43- Write a Python program to train an SVM Classifier and visualize the Confusion Matrix using seaborn\n",
        "from sklearn.datasets import load_iris\n",
        "from sklearn.model_selection import train_test_split\n",
        "from sklearn.svm import SVC\n",
        "from sklearn.metrics import confusion_matrix\n",
        "import seaborn as sns\n",
        "import matplotlib.pyplot as plt\n",
        "\n",
        "data = load_iris()\n",
        "X_train, X_test, y_train, y_test = train_test_split(data.data, data.target, test_size=0.2, random_state=42)\n",
        "\n",
        "model = SVC()\n",
        "model.fit(X_train, y_train)\n",
        "y_pred = model.predict(X_test)\n",
        "\n",
        "cm = confusion_matrix(y_test, y_pred)\n",
        "sns.heatmap(cm, annot=True, fmt='d', cmap='Blues')\n",
        "plt.xlabel('Predicted')\n",
        "plt.ylabel('Actual')\n",
        "plt.show()"
      ],
      "metadata": {
        "colab": {
          "base_uri": "https://localhost:8080/",
          "height": 449
        },
        "id": "ymvbbK-VFVvk",
        "outputId": "5880d955-620b-4ff9-d7e1-45697e4ec7b3"
      },
      "execution_count": 22,
      "outputs": [
        {
          "output_type": "display_data",
          "data": {
            "text/plain": [
              "<Figure size 640x480 with 2 Axes>"
            ],
            "image/png": "[encoded data removed]"
          },
          "metadata": {}
        }
      ]
    },
    {
      "cell_type": "code",
      "source": [
        "# 45- Write a Python program to train a Naïve Bayes classifier and evaluate its performance using the ROC-AUC score\n",
        "from sklearn.datasets import load_breast_cancer\n",
        "from sklearn.model_selection import train_test_split\n",
        "from sklearn.naive_bayes import GaussianNB\n",
        "from sklearn.metrics import roc_auc_score, roc_curve\n",
        "import matplotlib.pyplot as plt\n",
        "\n",
        "data = load_breast_cancer()\n",
        "X_train, X_test, y_train, y_test = train_test_split(data.data, data.target, test_size=0.2, random_state=42)\n",
        "\n",
        "model = GaussianNB()\n",
        "model.fit(X_train, y_train)\n",
        "y_prob = model.predict_proba(X_test)[:, 1]\n",
        "\n",
        "roc_auc = roc_auc_score(y_test, y_prob)\n",
        "print(f\"ROC-AUC Score: {roc_auc:.4f}\")\n",
        "\n",
        "fpr, tpr, _ = roc_curve(y_test, y_prob)\n",
        "plt.plot(fpr, tpr, label=f\"ROC curve (area = {roc_auc:.2f})\")\n",
        "plt.plot([0, 1], [0, 1], 'k--')\n",
        "plt.xlabel(\"False Positive Rate\")\n",
        "plt.ylabel(\"True Positive Rate\")\n",
        "plt.title(\"ROC Curve - Naive Bayes\")\n",
        "plt.legend()\n",
        "plt.show()\n"
      ],
      "metadata": {
        "colab": {
          "base_uri": "https://localhost:8080/",
          "height": 489
        },
        "id": "bkYwf5fuFd7d",
        "outputId": "5a1e2030-e8e0-41a1-9d83-2535221ab806"
      },
      "execution_count": 23,
      "outputs": [
        {
          "output_type": "stream",
          "name": "stdout",
          "text": [
            "ROC-AUC Score: 0.9984\n"
          ]
        },
        {
          "output_type": "display_data",
          "data": {
            "text/plain": [
              "<Figure size 640x480 with 1 Axes>"
            ],
            "image/png": "[encoded data removed]"
          },
          "metadata": {}
        }
      ]
    },
    {
      "cell_type": "code",
      "source": [
        "# 46- Write a Python program to train an SVM Classifier and visualize the Precision-Recall Curve.\n",
        "from sklearn.datasets import load_breast_cancer\n",
        "from sklearn.model_selection import train_test_split\n",
        "from sklearn.svm import SVC\n",
        "from sklearn.metrics import precision_recall_curve, average_precision_score\n",
        "import matplotlib.pyplot as plt\n",
        "\n",
        "data = load_breast_cancer()\n",
        "X_train, X_test, y_train, y_test = train_test_split(data.data, data.target, test_size=0.2, random_state=42)\n",
        "\n",
        "model = SVC(probability=True)\n",
        "model.fit(X_train, y_train)\n",
        "y_prob = model.predict_proba(X_test)[:, 1]\n",
        "\n",
        "precision, recall, _ = precision_recall_curve(y_test, y_prob)\n",
        "avg_precision = average_precision_score(y_test, y_prob)\n",
        "\n",
        "plt.plot(recall, precision, label=f\"Precision-Recall curve (AP = {avg_precision:.2f})\")\n",
        "plt.xlabel(\"Recall\")\n",
        "plt.ylabel(\"Precision\")\n",
        "plt.title(\"Precision-Recall Curve - SVM\")\n",
        "plt.legend()\n",
        "plt.show()\n"
      ],
      "metadata": {
        "colab": {
          "base_uri": "https://localhost:8080/",
          "height": 472
        },
        "id": "z8O-vgrOFmlQ",
        "outputId": "7cb61471-82ec-4fa5-b59d-ccbb40c5b38a"
      },
      "execution_count": 24,
      "outputs": [
        {
          "output_type": "display_data",
          "data": {
            "text/plain": [
              "<Figure size 640x480 with 1 Axes>"
            ],
            "image/png": "[encoded data removed]"
          },
          "metadata": {}
        }
      ]
    },
    {
      "cell_type": "code",
      "source": [],
      "metadata": {
        "id": "q2ntSxAaFuYT"
      },
      "execution_count": null,
      "outputs": []
    }
  ]
}